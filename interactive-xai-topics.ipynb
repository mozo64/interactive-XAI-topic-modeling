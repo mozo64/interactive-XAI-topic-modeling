{
 "cells": [
  {
   "cell_type": "code",
   "id": "48721971680223a1",
   "metadata": {
    "ExecuteTime": {
     "end_time": "2024-10-31T08:54:33.376585Z",
     "start_time": "2024-10-31T08:54:33.373421Z"
    }
   },
   "source": [
    "from collections import defaultdict\n",
    "\n",
    "import re\n",
    "from openai import OpenAI\n",
    "from sklearn.decomposition import LatentDirichletAllocation, NMF\n",
    "from sklearn.feature_extraction.text import CountVectorizer\n",
    "from typing import Dict, Tuple, Optional\n",
    "\n",
    "API_KEY = \"sk-proj-...\"\n",
    "ABSTRACTS_PATH = \"shared/xai-interactive-abstracts.txt\"\n",
    "GPT_MODEL = \"gpt-4\"  # \"gpt-4o-mini\"  #"
   ],
   "outputs": [],
   "execution_count": 47
  },
  {
   "metadata": {
    "ExecuteTime": {
     "end_time": "2024-10-31T08:54:34.688944Z",
     "start_time": "2024-10-31T08:54:34.677920Z"
    }
   },
   "cell_type": "code",
   "source": [
    "class ClusterInfo:\n",
    "    def __init__(self, cluster_id: int):\n",
    "        self.cluster_id = cluster_id\n",
    "        self.cluster_title: Optional[str] = None\n",
    "        self.cluster_stats: Dict[str, float] = {}\n",
    "\n",
    "\n",
    "class AbstractInfo:\n",
    "    def __init__(self, label: str, text: str):\n",
    "        self.label = label\n",
    "        self.text = text\n",
    "        self.analysis_type = None\n",
    "        self.cluster_info: Optional[ClusterInfo] = None\n",
    "\n",
    "\n",
    "class AbstractTopicsAnalyzer:\n",
    "    def __init__(self, api_key: str, data_path: str, n_topics: int = 5):\n",
    "        # openai.api_key = api_key\n",
    "        self.client = OpenAI(api_key=api_key)\n",
    "        self.data_path = data_path\n",
    "        self.n_topics = n_topics\n",
    "        self.abstracts = self._load_abstracts()\n",
    "        self.clusters = {}\n",
    "        self.vectorizer = CountVectorizer(stop_words='english')\n",
    "        self.analysis_type = None\n",
    "\n",
    "    def _load_abstracts(self) -> Dict[str, AbstractInfo]:\n",
    "        \"\"\"Load abstracts and IDs from text file, cleaning and merging lines.\"\"\"\n",
    "        abstracts = {}\n",
    "        i = 0\n",
    "        with open(self.data_path, \"r\") as file:\n",
    "            content = file.read().split(\"\\n\\n\")\n",
    "            for abstract in content:\n",
    "                lines = abstract.strip().split(\"\\n\")\n",
    "                if lines:\n",
    "                    label = lines[0].strip()\n",
    "                    print(f\"[{i}]: {label}\")\n",
    "                    text = \" \".join(lines[1:]).replace(\"ZWSP\", \"\")  # Join lines and remove \"ZWSP\"\n",
    "                    text = re.sub(r\"[^a-zA-Z0-9 ,.\\-:]\", \"\", text)  # Keep only specified characters\n",
    "                    # Remove phrases like \"INDEX TERMS\", \"Keywords\" in various capitalizations\n",
    "                    text = re.sub(\n",
    "                        r\"\\b(?:[Ii][Nn][Dd][Ee][Xx]\\s?[Tt][Ee][Rr][Mm][Ss]|[Kk][Ee][Yy][Ww][Oo][Rr][Dd][Ss]?)(:)?\\b\",\n",
    "                        \"\", text)\n",
    "                    abstracts[label] = AbstractInfo(label, text.strip())\n",
    "                    i += 1\n",
    "        return abstracts\n",
    "\n",
    "    def preview_abstracts(self, n: int = 5) -> Dict[str, AbstractInfo]:\n",
    "        \"\"\"Return a preview of a specified number of abstracts\"\"\"\n",
    "        return dict(list(self.abstracts.items())[:n])\n",
    "\n",
    "    def perform_lda(self) -> None:\n",
    "        \"\"\"Run LDA on abstracts and assign topics\"\"\"\n",
    "        self.analysis_type = 'LDA'\n",
    "        data = [info.text for info in self.abstracts.values()]\n",
    "        data_vectorized = self.vectorizer.fit_transform(data)\n",
    "\n",
    "        lda = LatentDirichletAllocation(n_components=self.n_topics, random_state=42)\n",
    "        lda.fit(data_vectorized)\n",
    "        topics = lda.transform(data_vectorized)\n",
    "\n",
    "        for i, (label, info) in enumerate(self.abstracts.items()):\n",
    "            cluster_id = topics[i].argmax()\n",
    "            if cluster_id not in self.clusters:\n",
    "                self.clusters[cluster_id] = ClusterInfo(cluster_id)\n",
    "            info.cluster_info = self.clusters[cluster_id]\n",
    "            info.analysis_type = self.analysis_type\n",
    "\n",
    "    def perform_nmf(self) -> None:\n",
    "        \"\"\"Run NMF on abstracts and assign topics\"\"\"\n",
    "        self.analysis_type = 'NMF'\n",
    "        data = [info.text for info in self.abstracts.values()]\n",
    "        data_vectorized = self.vectorizer.fit_transform(data)\n",
    "\n",
    "        nmf = NMF(n_components=self.n_topics, random_state=42)\n",
    "        nmf.fit(data_vectorized)\n",
    "        topics = nmf.transform(data_vectorized)\n",
    "\n",
    "        for i, (label, info) in enumerate(self.abstracts.items()):\n",
    "            cluster_id = topics[i].argmax()\n",
    "            if cluster_id not in self.clusters:\n",
    "                self.clusters[cluster_id] = ClusterInfo(cluster_id)\n",
    "            info.cluster_info = self.clusters[cluster_id]\n",
    "            info.analysis_type = self.analysis_type\n",
    "\n",
    "    def analysis_statistics(self) -> Dict[int, Dict[str, float]]:\n",
    "        \"\"\"Generate statistics on the analysis results and assign to each cluster\"\"\"\n",
    "        topic_counts = defaultdict(int)\n",
    "        topic_probabilities = defaultdict(list)\n",
    "\n",
    "        for info in self.abstracts.values():\n",
    "            cluster_id = info.cluster_info.cluster_id\n",
    "            topic_counts[cluster_id] += 1\n",
    "            # Collect dummy probabilities for the example; replace with actual\n",
    "            topic_probabilities[cluster_id].append(1)\n",
    "\n",
    "        statistics = {}\n",
    "        for topic, count in topic_counts.items():\n",
    "            avg_prob = sum(topic_probabilities[topic]) / len(topic_probabilities[topic])\n",
    "            statistics[topic] = {\"count\": count, \"avg_probability\": avg_prob}\n",
    "            self.clusters[topic].cluster_stats = statistics[topic]\n",
    "\n",
    "        return statistics\n",
    "\n",
    "    def add_topics_to_clusters(self) -> None:\n",
    "        \"\"\"Assign GPT-generated titles to each cluster\"\"\"\n",
    "        clusters_text = defaultdict(list)\n",
    "        for info in self.abstracts.values():\n",
    "            clusters_text[info.cluster_info.cluster_id].append(info.text)\n",
    "\n",
    "        for cluster_id, abstracts in clusters_text.items():\n",
    "            prompt = f\"Generate a title for the following cluster:\\n\" + \"\\n\".join(abstracts)\n",
    "            completion = self.client.chat.completions.create(\n",
    "                model=\"gpt-4\",\n",
    "                messages=[\n",
    "                    {\"role\": \"system\", \"content\": \"You are a helpful assistant analyzing topics for LDA.\"},\n",
    "                    {\"role\": \"user\", \"content\": prompt}\n",
    "                ]\n",
    "            )\n",
    "            title = completion.choices[0].message.content.strip()\n",
    "            self.clusters[cluster_id].cluster_title = title\n",
    "\n",
    "    def result(self) -> Dict[str, Tuple[int, str]]:\n",
    "        \"\"\"Return the results with cluster ID and title for each abstract\"\"\"\n",
    "        return {label: (info.cluster_info.cluster_id, info.cluster_info.cluster_title) for label, info in\n",
    "                self.abstracts.items()}\n",
    "\n"
   ],
   "id": "1f980ccd8cc03222",
   "outputs": [],
   "execution_count": 48
  },
  {
   "metadata": {
    "ExecuteTime": {
     "end_time": "2024-10-31T08:54:35.944189Z",
     "start_time": "2024-10-31T08:54:35.928713Z"
    }
   },
   "cell_type": "code",
   "source": "analyzer = AbstractTopicsAnalyzer(api_key=API_KEY, data_path=ABSTRACTS_PATH, n_topics=4)",
   "id": "ea10c255379e0a04",
   "outputs": [
    {
     "name": "stdout",
     "output_type": "stream",
     "text": [
      "[0]: booshehri2024computational​\n",
      "[1]: kim2024xai\n",
      "[2]: huang2022analysis​\n",
      "[3]: chromik2021review​\n",
      "[4]: nazar2021systematic​\n",
      "[5]: shneiderman2022human​\n",
      "[6]: baniecki2020grammar​\n",
      "[7]: feustel2024enhancing​\n",
      "[8]: rago2023interactive​\n",
      "[9]: conati2023personalized​\n",
      "[10]: guo2024explainability​\n",
      "[11]: mozolewski2022explain​\n",
      "[12]: mindlin2024measuring​\n",
      "[13]: singh2024actionability​\n",
      "[14]: alaqsam2024systematic​\n",
      "[15]: Liao2022human​\n",
      "[16]: jacovi2023trends​\n"
     ]
    }
   ],
   "execution_count": 49
  },
  {
   "metadata": {
    "ExecuteTime": {
     "end_time": "2024-10-31T08:54:37.714459Z",
     "start_time": "2024-10-31T08:54:37.710240Z"
    }
   },
   "cell_type": "code",
   "source": "analyzer.preview_abstracts()",
   "id": "f645b658e35341c6",
   "outputs": [
    {
     "data": {
      "text/plain": [
       "{'booshehri2024computational\\u200b': <__main__.AbstractInfo at 0x7fcd06da37a0>,\n",
       " 'kim2024xai': <__main__.AbstractInfo at 0x7fcd06da2390>,\n",
       " 'huang2022analysis\\u200b': <__main__.AbstractInfo at 0x7fcd06da1730>,\n",
       " 'chromik2021review\\u200b': <__main__.AbstractInfo at 0x7fcd06da2570>,\n",
       " 'nazar2021systematic\\u200b': <__main__.AbstractInfo at 0x7fcd06da14c0>}"
      ]
     },
     "execution_count": 50,
     "metadata": {},
     "output_type": "execute_result"
    }
   ],
   "execution_count": 50
  },
  {
   "metadata": {
    "ExecuteTime": {
     "end_time": "2024-10-31T08:55:18.085899Z",
     "start_time": "2024-10-31T08:55:18.070474Z"
    }
   },
   "cell_type": "code",
   "source": [
    "# analyzer.perform_lda()\n",
    "analyzer.perform_nmf()\n",
    "analyzer.analysis_statistics()"
   ],
   "id": "65123458d608a142",
   "outputs": [
    {
     "data": {
      "text/plain": [
       "{2: {'count': 7, 'avg_probability': 1.0},\n",
       " 3: {'count': 4, 'avg_probability': 1.0},\n",
       " 0: {'count': 5, 'avg_probability': 1.0},\n",
       " 1: {'count': 1, 'avg_probability': 1.0}}"
      ]
     },
     "execution_count": 56,
     "metadata": {},
     "output_type": "execute_result"
    }
   ],
   "execution_count": 56
  },
  {
   "metadata": {
    "ExecuteTime": {
     "end_time": "2024-10-31T08:55:32.822505Z",
     "start_time": "2024-10-31T08:55:23.847460Z"
    }
   },
   "cell_type": "code",
   "source": "analyzer.add_topics_to_clusters()",
   "id": "1ae0dba13485b6c9",
   "outputs": [],
   "execution_count": 57
  },
  {
   "metadata": {
    "collapsed": true,
    "ExecuteTime": {
     "end_time": "2024-10-31T08:55:32.872559Z",
     "start_time": "2024-10-31T08:55:32.869848Z"
    }
   },
   "cell_type": "code",
   "source": "print(analyzer.result())",
   "id": "initial_id",
   "outputs": [
    {
     "name": "stdout",
     "output_type": "stream",
     "text": [
      "{'booshehri2024computational\\u200b': (2, '\"Interactive and Personalized Approaches in Explainable Artificial Intelligence (XAI): Advancements and Challenges in Explanation Generation, User Interface Design, and Model Understanding\"'), 'kim2024xai': (3, '\"Advancements and Challenges in Explainable Artificial Intelligence (XAI): An Investigation into Trustworthiness, Transparency, and Algorithmic Recourse in Clinical Decision Support Systems and Beyond\"'), 'huang2022analysis\\u200b': (2, '\"Interactive and Personalized Approaches in Explainable Artificial Intelligence (XAI): Advancements and Challenges in Explanation Generation, User Interface Design, and Model Understanding\"'), 'chromik2021review\\u200b': (2, '\"Interactive and Personalized Approaches in Explainable Artificial Intelligence (XAI): Advancements and Challenges in Explanation Generation, User Interface Design, and Model Understanding\"'), 'nazar2021systematic\\u200b': (0, '\"Intersecting Fields of Artificial Intelligence and Human-Computer Interaction: A Comprehensive Study into Explainable AI Tools, Challenges, and Prospects in Healthcare and Other Domains\"'), 'shneiderman2022human\\u200b': (3, '\"Advancements and Challenges in Explainable Artificial Intelligence (XAI): An Investigation into Trustworthiness, Transparency, and Algorithmic Recourse in Clinical Decision Support Systems and Beyond\"'), 'baniecki2020grammar\\u200b': (1, '\"Interactive Explanatory Model Analysis: Enhancing Explainable AI Through Sequential Approach and Human-Centered Design\"'), 'feustel2024enhancing\\u200b': (3, '\"Advancements and Challenges in Explainable Artificial Intelligence (XAI): An Investigation into Trustworthiness, Transparency, and Algorithmic Recourse in Clinical Decision Support Systems and Beyond\"'), 'rago2023interactive\\u200b': (2, '\"Interactive and Personalized Approaches in Explainable Artificial Intelligence (XAI): Advancements and Challenges in Explanation Generation, User Interface Design, and Model Understanding\"'), 'conati2023personalized\\u200b': (2, '\"Interactive and Personalized Approaches in Explainable Artificial Intelligence (XAI): Advancements and Challenges in Explanation Generation, User Interface Design, and Model Understanding\"'), 'guo2024explainability\\u200b': (0, '\"Intersecting Fields of Artificial Intelligence and Human-Computer Interaction: A Comprehensive Study into Explainable AI Tools, Challenges, and Prospects in Healthcare and Other Domains\"'), 'mozolewski2022explain\\u200b': (2, '\"Interactive and Personalized Approaches in Explainable Artificial Intelligence (XAI): Advancements and Challenges in Explanation Generation, User Interface Design, and Model Understanding\"'), 'mindlin2024measuring\\u200b': (2, '\"Interactive and Personalized Approaches in Explainable Artificial Intelligence (XAI): Advancements and Challenges in Explanation Generation, User Interface Design, and Model Understanding\"'), 'singh2024actionability\\u200b': (3, '\"Advancements and Challenges in Explainable Artificial Intelligence (XAI): An Investigation into Trustworthiness, Transparency, and Algorithmic Recourse in Clinical Decision Support Systems and Beyond\"'), 'alaqsam2024systematic\\u200b': (0, '\"Intersecting Fields of Artificial Intelligence and Human-Computer Interaction: A Comprehensive Study into Explainable AI Tools, Challenges, and Prospects in Healthcare and Other Domains\"'), 'Liao2022human\\u200b': (0, '\"Intersecting Fields of Artificial Intelligence and Human-Computer Interaction: A Comprehensive Study into Explainable AI Tools, Challenges, and Prospects in Healthcare and Other Domains\"'), 'jacovi2023trends\\u200b': (0, '\"Intersecting Fields of Artificial Intelligence and Human-Computer Interaction: A Comprehensive Study into Explainable AI Tools, Challenges, and Prospects in Healthcare and Other Domains\"')}\n"
     ]
    }
   ],
   "execution_count": 58
  },
  {
   "metadata": {
    "ExecuteTime": {
     "end_time": "2024-10-31T08:56:04.025386Z",
     "start_time": "2024-10-31T08:56:04.019960Z"
    }
   },
   "cell_type": "code",
   "source": [
    "for cluster_id, cluster_info in analyzer.clusters.items():\n",
    "    print(f\"Cluster ID: {cluster_id}\")\n",
    "    print(f\"Cluster Title: {cluster_info.cluster_title}\")\n",
    "\n",
    "    # Find articles belonging to the current cluster\n",
    "    articles_in_cluster = [\n",
    "        label for label, abstract_info in analyzer.abstracts.items()\n",
    "        if abstract_info.cluster_info == cluster_info\n",
    "    ]\n",
    "\n",
    "    print(\"Articles in Cluster:\")\n",
    "    for label in articles_in_cluster:\n",
    "        print(f\" - {label}\")\n",
    "    print(\"-\" * 50)"
   ],
   "id": "6193d45607e57d46",
   "outputs": [
    {
     "name": "stdout",
     "output_type": "stream",
     "text": [
      "Cluster ID: 2\n",
      "Cluster Title: \"Interactive and Personalized Approaches in Explainable Artificial Intelligence (XAI): Advancements and Challenges in Explanation Generation, User Interface Design, and Model Understanding\"\n",
      "Articles in Cluster:\n",
      " - booshehri2024computational​\n",
      " - huang2022analysis​\n",
      " - chromik2021review​\n",
      " - rago2023interactive​\n",
      " - conati2023personalized​\n",
      " - mozolewski2022explain​\n",
      " - mindlin2024measuring​\n",
      "--------------------------------------------------\n",
      "Cluster ID: 3\n",
      "Cluster Title: \"Advancements and Challenges in Explainable Artificial Intelligence (XAI): An Investigation into Trustworthiness, Transparency, and Algorithmic Recourse in Clinical Decision Support Systems and Beyond\"\n",
      "Articles in Cluster:\n",
      " - kim2024xai\n",
      " - shneiderman2022human​\n",
      " - feustel2024enhancing​\n",
      " - singh2024actionability​\n",
      "--------------------------------------------------\n",
      "Cluster ID: 0\n",
      "Cluster Title: \"Intersecting Fields of Artificial Intelligence and Human-Computer Interaction: A Comprehensive Study into Explainable AI Tools, Challenges, and Prospects in Healthcare and Other Domains\"\n",
      "Articles in Cluster:\n",
      " - nazar2021systematic​\n",
      " - guo2024explainability​\n",
      " - alaqsam2024systematic​\n",
      " - Liao2022human​\n",
      " - jacovi2023trends​\n",
      "--------------------------------------------------\n",
      "Cluster ID: 1\n",
      "Cluster Title: \"Interactive Explanatory Model Analysis: Enhancing Explainable AI Through Sequential Approach and Human-Centered Design\"\n",
      "Articles in Cluster:\n",
      " - baniecki2020grammar​\n",
      "--------------------------------------------------\n"
     ]
    }
   ],
   "execution_count": 59
  },
  {
   "metadata": {},
   "cell_type": "code",
   "outputs": [],
   "execution_count": null,
   "source": [
    "# LDA + \"gpt-4\"\n",
    "# Cluster ID: 2\n",
    "# Cluster Title: \"Co-construction and Human-centered Approach in Explainable AI: From Clustering Methods to Actionability Assessment\"\n",
    "# Articles in Cluster:\n",
    "#  - booshehri2024computational​\n",
    "#  - shneiderman2022human​\n",
    "#  - mozolewski2022explain​\n",
    "#  - singh2024actionability​\n",
    "# --------------------------------------------------\n",
    "# Cluster ID: 1\n",
    "# Cluster Title: \"Advancements and Challenges in Explainable AI (XAI): Exploring Tools, Clinical Decision Support Systems, and Interactive Explanations\"\n",
    "# Articles in Cluster:\n",
    "#  - kim2024xai\n",
    "#  - rago2023interactive​\n",
    "#  - mindlin2024measuring​\n",
    "#  - alaqsam2024systematic​\n",
    "# --------------------------------------------------\n",
    "# Cluster ID: 0\n",
    "# Cluster Title: \"Exploring the Intersections of Explainable Artificial Intelligence and Human-Centering: Advancements in Techniques, Applications, and Interactivity\"\n",
    "# Articles in Cluster:\n",
    "#  - huang2022analysis​\n",
    "#  - chromik2021review​\n",
    "#  - nazar2021systematic​\n",
    "#  - baniecki2020grammar​\n",
    "#  - feustel2024enhancing​\n",
    "#  - guo2024explainability​\n",
    "#  - Liao2022human​\n",
    "#  - jacovi2023trends​\n",
    "# --------------------------------------------------\n",
    "# Cluster ID: 3\n",
    "# Cluster Title: \"Personalized Explainable Artificial Intelligence (XAI) in Intelligent Tutoring Systems (ITS): Impact on Student Learning and Perceptions\"\n",
    "# Articles in Cluster:\n",
    "#  - conati2023personalized​\n",
    "# --------------------------------------------------\n"
   ],
   "id": "6e84aa0fa57dd66f"
  },
  {
   "metadata": {},
   "cell_type": "code",
   "outputs": [],
   "execution_count": null,
   "source": [
    "# NMF + \"gpt-4\"\n",
    "# Cluster ID: 2\n",
    "# Cluster Title: \"Interactive and Personalized Approaches in Explainable Artificial Intelligence (XAI): Advancements and Challenges in Explanation Generation, User Interface Design, and Model Understanding\"\n",
    "# Articles in Cluster:\n",
    "#  - booshehri2024computational​\n",
    "#  - huang2022analysis​\n",
    "#  - chromik2021review​\n",
    "#  - rago2023interactive​\n",
    "#  - conati2023personalized​\n",
    "#  - mozolewski2022explain​\n",
    "#  - mindlin2024measuring​\n",
    "# --------------------------------------------------\n",
    "# Cluster ID: 3\n",
    "# Cluster Title: \"Advancements and Challenges in Explainable Artificial Intelligence (XAI): An Investigation into Trustworthiness, Transparency, and Algorithmic Recourse in Clinical Decision Support Systems and Beyond\"\n",
    "# Articles in Cluster:\n",
    "#  - kim2024xai\n",
    "#  - shneiderman2022human​\n",
    "#  - feustel2024enhancing​\n",
    "#  - singh2024actionability​\n",
    "# --------------------------------------------------\n",
    "# Cluster ID: 0\n",
    "# Cluster Title: \"Intersecting Fields of Artificial Intelligence and Human-Computer Interaction: A Comprehensive Study into Explainable AI Tools, Challenges, and Prospects in Healthcare and Other Domains\"\n",
    "# Articles in Cluster:\n",
    "#  - nazar2021systematic​\n",
    "#  - guo2024explainability​\n",
    "#  - alaqsam2024systematic​\n",
    "#  - Liao2022human​\n",
    "#  - jacovi2023trends​\n",
    "# --------------------------------------------------\n",
    "# Cluster ID: 1\n",
    "# Cluster Title: \"Interactive Explanatory Model Analysis: Enhancing Explainable AI Through Sequential Approach and Human-Centered Design\"\n",
    "# Articles in Cluster:\n",
    "#  - baniecki2020grammar​\n",
    "# --------------------------------------------------\n"
   ],
   "id": "4ccdb71c1f580ad5"
  }
 ],
 "metadata": {
  "kernelspec": {
   "display_name": "Py3.12 with TF and PyTorch",
   "language": "python",
   "name": "env312"
  },
  "language_info": {
   "codemirror_mode": {
    "name": "ipython",
    "version": 2
   },
   "file_extension": ".py",
   "mimetype": "text/x-python",
   "name": "python",
   "nbconvert_exporter": "python",
   "pygments_lexer": "ipython2",
   "version": "2.7.6"
  }
 },
 "nbformat": 4,
 "nbformat_minor": 5
}
